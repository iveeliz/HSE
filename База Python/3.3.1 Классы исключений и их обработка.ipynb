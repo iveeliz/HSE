{
 "cells": [
  {
   "cell_type": "markdown",
   "metadata": {},
   "source": [
    "# Классы исключений и их обработка\n",
    "\n",
    "Исключения в Python:\n",
    "* Генерация исключений\n",
    "* Типы исключений\n",
    "* Обработка исключений\n",
    "\n",
    "Типы исключений:\n",
    "* Исключения стандартной библиотеки Python\n",
    "* Пользовательские исключения\n",
    "\n",
    "Иерархия исключений:\n",
    "* BaseException\n",
    "  * SystemExit\n",
    "  * KeyboardInterrupt\n",
    "  * GeneratorExit\n",
    "  * Exception\n",
    "    * StopIteration\n",
    "    * AssertionError\n",
    "    * AttributeError\n",
    "    * LookupError\n",
    "      * IndexError\n",
    "      * KeyError\n",
    "    * OSError\n",
    "    * SystemError\n",
    "    * TypeError\n",
    "    * ValueError"
   ]
  },
  {
   "cell_type": "code",
   "execution_count": 6,
   "metadata": {},
   "outputs": [
    {
     "ename": "ValueError",
     "evalue": "invalid literal for int() with base 10: 'wiohd'",
     "output_type": "error",
     "traceback": [
      "\u001b[1;31m---------------------------------------------------------------------------\u001b[0m",
      "\u001b[1;31mValueError\u001b[0m                                Traceback (most recent call last)",
      "\u001b[1;32m<ipython-input-6-3c200c24560d>\u001b[0m in \u001b[0;36m<module>\u001b[1;34m()\u001b[0m\n\u001b[1;32m----> 1\u001b[1;33m \u001b[0mint\u001b[0m\u001b[1;33m(\u001b[0m\u001b[1;34m'wiohd'\u001b[0m\u001b[1;33m)\u001b[0m\u001b[1;33m\u001b[0m\u001b[0m\n\u001b[0m",
      "\u001b[1;31mValueError\u001b[0m: invalid literal for int() with base 10: 'wiohd'"
     ]
    }
   ],
   "source": [
    "int('wiohd')"
   ]
  },
  {
   "cell_type": "code",
   "execution_count": 5,
   "metadata": {},
   "outputs": [
    {
     "ename": "TypeError",
     "evalue": "must be str, not int",
     "output_type": "error",
     "traceback": [
      "\u001b[1;31m---------------------------------------------------------------------------\u001b[0m",
      "\u001b[1;31mTypeError\u001b[0m                                 Traceback (most recent call last)",
      "\u001b[1;32m<ipython-input-5-0b357fd6cc08>\u001b[0m in \u001b[0;36m<module>\u001b[1;34m()\u001b[0m\n\u001b[1;32m----> 1\u001b[1;33m \u001b[1;34m'234'\u001b[0m \u001b[1;33m+\u001b[0m \u001b[1;36m123\u001b[0m\u001b[1;33m\u001b[0m\u001b[0m\n\u001b[0m",
      "\u001b[1;31mTypeError\u001b[0m: must be str, not int"
     ]
    }
   ],
   "source": [
    "'234' + 123"
   ]
  },
  {
   "cell_type": "code",
   "execution_count": 8,
   "metadata": {},
   "outputs": [
    {
     "ename": "KeyError",
     "evalue": "1",
     "output_type": "error",
     "traceback": [
      "\u001b[1;31m---------------------------------------------------------------------------\u001b[0m",
      "\u001b[1;31mKeyError\u001b[0m                                  Traceback (most recent call last)",
      "\u001b[1;32m<ipython-input-8-69ee05fe54db>\u001b[0m in \u001b[0;36m<module>\u001b[1;34m()\u001b[0m\n\u001b[0;32m      1\u001b[0m \u001b[0md\u001b[0m \u001b[1;33m=\u001b[0m \u001b[1;33m{\u001b[0m\u001b[1;36m2\u001b[0m\u001b[1;33m:\u001b[0m\u001b[1;36m1234\u001b[0m\u001b[1;33m,\u001b[0m \u001b[1;36m5\u001b[0m\u001b[1;33m:\u001b[0m\u001b[1;36m12397\u001b[0m\u001b[1;33m}\u001b[0m\u001b[1;33m\u001b[0m\u001b[0m\n\u001b[1;32m----> 2\u001b[1;33m \u001b[0md\u001b[0m\u001b[1;33m[\u001b[0m\u001b[1;36m1\u001b[0m\u001b[1;33m]\u001b[0m\u001b[1;33m\u001b[0m\u001b[0m\n\u001b[0m",
      "\u001b[1;31mKeyError\u001b[0m: 1"
     ]
    }
   ],
   "source": [
    "d = {2:1234, 5:12397}\n",
    "d[1]"
   ]
  },
  {
   "cell_type": "code",
   "execution_count": 9,
   "metadata": {},
   "outputs": [
    {
     "ename": "IndexError",
     "evalue": "list index out of range",
     "output_type": "error",
     "traceback": [
      "\u001b[1;31m---------------------------------------------------------------------------\u001b[0m",
      "\u001b[1;31mIndexError\u001b[0m                                Traceback (most recent call last)",
      "\u001b[1;32m<ipython-input-9-6244cd6754c2>\u001b[0m in \u001b[0;36m<module>\u001b[1;34m()\u001b[0m\n\u001b[0;32m      1\u001b[0m \u001b[0ml\u001b[0m \u001b[1;33m=\u001b[0m \u001b[1;33m[\u001b[0m\u001b[1;36m2\u001b[0m\u001b[1;33m,\u001b[0m \u001b[1;36m5\u001b[0m\u001b[1;33m]\u001b[0m\u001b[1;33m\u001b[0m\u001b[0m\n\u001b[1;32m----> 2\u001b[1;33m \u001b[0ml\u001b[0m\u001b[1;33m[\u001b[0m\u001b[1;36m4\u001b[0m\u001b[1;33m]\u001b[0m\u001b[1;33m\u001b[0m\u001b[0m\n\u001b[0m",
      "\u001b[1;31mIndexError\u001b[0m: list index out of range"
     ]
    }
   ],
   "source": [
    "l = [2, 5]\n",
    "l[4]"
   ]
  },
  {
   "cell_type": "markdown",
   "metadata": {},
   "source": [
    "## Обработка исключений"
   ]
  },
  {
   "cell_type": "code",
   "execution_count": 10,
   "metadata": {},
   "outputs": [
    {
     "ename": "ZeroDivisionError",
     "evalue": "division by zero",
     "output_type": "error",
     "traceback": [
      "\u001b[1;31m---------------------------------------------------------------------------\u001b[0m",
      "\u001b[1;31mZeroDivisionError\u001b[0m                         Traceback (most recent call last)",
      "\u001b[1;32m<ipython-input-10-bc757c3fda29>\u001b[0m in \u001b[0;36m<module>\u001b[1;34m()\u001b[0m\n\u001b[1;32m----> 1\u001b[1;33m \u001b[1;36m1\u001b[0m \u001b[1;33m/\u001b[0m \u001b[1;36m0\u001b[0m\u001b[1;33m\u001b[0m\u001b[0m\n\u001b[0m",
      "\u001b[1;31mZeroDivisionError\u001b[0m: division by zero"
     ]
    }
   ],
   "source": [
    "1 / 0"
   ]
  },
  {
   "cell_type": "code",
   "execution_count": 1,
   "metadata": {},
   "outputs": [
    {
     "name": "stdout",
     "output_type": "stream",
     "text": [
      "Ошибка 1\n"
     ]
    }
   ],
   "source": [
    "try:\n",
    "    1 / 0\n",
    "except:\n",
    "    print('Ошибка 1')\n"
   ]
  },
  {
   "cell_type": "markdown",
   "metadata": {},
   "source": [
    "В блоке указываем тип отлавливаемого исключения:"
   ]
  },
  {
   "cell_type": "code",
   "execution_count": 2,
   "metadata": {},
   "outputs": [
    {
     "name": "stdout",
     "output_type": "stream",
     "text": [
      "Ошибка 2\n"
     ]
    }
   ],
   "source": [
    "try:\n",
    "    1 / 0\n",
    "except Exception: # Отлавливаем все типы исключений потомков класса Exception\n",
    "    print('Ошибка 2')"
   ]
  },
  {
   "cell_type": "markdown",
   "metadata": {},
   "source": [
    "## Обработка ожидаемого исключения"
   ]
  },
  {
   "cell_type": "markdown",
   "metadata": {},
   "source": [
    "В этом примере выполним 3 шага:\n",
    "1. Ввод некорректного числа, например `w20`\n",
    "2. Вызов прерывания программы нажатием `CTRL+C`\n",
    "3. Для выхода из программы введем корректно число, например - 10"
   ]
  },
  {
   "cell_type": "code",
   "execution_count": 11,
   "metadata": {},
   "outputs": [
    {
     "name": "stdout",
     "output_type": "stream",
     "text": [
      "Введите число:w20\n",
      "Некорректное число!\n",
      "Введите число:\n",
      "Некорректное число!\n",
      "Введите число:\n",
      "Некорректное число!\n",
      "Введите число:2314\n",
      "Введено корректное число: 2314\n"
     ]
    }
   ],
   "source": [
    "while True:\n",
    "    try:\n",
    "        raw = input('Введите число:')\n",
    "        number = int(raw)\n",
    "        break # Если не возникает исключения на предыдущей строке, то прерываем цикл\n",
    "    except:\n",
    "        print('Некорректное число!')\n",
    "\n",
    "print('Введено корректное число:', number)"
   ]
  },
  {
   "cell_type": "markdown",
   "metadata": {},
   "source": [
    "Программа не прервется по `CTRL+C`. Почему программа стала вести себя непредвиденным образом?  \n",
    "Это говорит о том, что блок `exception` стал отлавливать все исключения, в том числе и по нажатию `CTRL+C`\n",
    "\n",
    "Перепишем код и укажем явно отлавливаемую ошибку:"
   ]
  },
  {
   "cell_type": "code",
   "execution_count": 4,
   "metadata": {},
   "outputs": [
    {
     "name": "stdout",
     "output_type": "stream",
     "text": [
      "Введите число:w20\n",
      "Некорректное число!\n",
      "Введите число:10\n",
      "Введено корректное число 10\n"
     ]
    }
   ],
   "source": [
    "while True:\n",
    "    try:\n",
    "        raw = input('Введите число:')\n",
    "        number = int(raw)\n",
    "        break\n",
    "    except ValueError: # Указываем конкретную отлавливаемую ошибку\n",
    "        print('Некорректное число!')\n",
    "\n",
    "print('Введено корректное число', number)"
   ]
  },
  {
   "cell_type": "markdown",
   "metadata": {},
   "source": [
    "## Блок `else`\n",
    "\n",
    "Блок `else` будет выполнен в том случае, если никакого исключения не произошло.  \n",
    "В этом примере, блок никогда не выполнится, так как в блоке `try` находится `break`:"
   ]
  },
  {
   "cell_type": "code",
   "execution_count": 6,
   "metadata": {},
   "outputs": [
    {
     "name": "stdout",
     "output_type": "stream",
     "text": [
      "Введите число:10\n",
      "Введено корректное число 10\n"
     ]
    }
   ],
   "source": [
    "while True:\n",
    "    try:\n",
    "        raw = input('Введите число:')\n",
    "        number = int(raw)\n",
    "        break\n",
    "    except ValueError:\n",
    "        print('Некорректное число!')\n",
    "    else:\n",
    "        print('Блок else')\n",
    "        break\n",
    "\n",
    "print('Введено корректное число', number)"
   ]
  },
  {
   "cell_type": "markdown",
   "metadata": {},
   "source": [
    "## Обработка нескольких исключений"
   ]
  },
  {
   "cell_type": "code",
   "execution_count": 7,
   "metadata": {},
   "outputs": [
    {
     "name": "stdout",
     "output_type": "stream",
     "text": [
      "Введите число:10\n",
      "Введено корректное число 10\n"
     ]
    }
   ],
   "source": [
    "while True:\n",
    "    try:\n",
    "        raw = input('Введите число:')\n",
    "        number = int(raw)\n",
    "        break\n",
    "    except ValueError:\n",
    "        print('Некорректное число!')\n",
    "    except KeyboardInterrupt:\n",
    "        print('Выход')\n",
    "        break\n",
    "\n",
    "print('Введено корректное число', number)"
   ]
  },
  {
   "cell_type": "markdown",
   "metadata": {},
   "source": [
    "Если обработчик исключений выглядит одинаково, то можно перечислить типы исключений.  \n",
    "Ожидаем некорректное число или число 0:"
   ]
  },
  {
   "cell_type": "code",
   "execution_count": 8,
   "metadata": {},
   "outputs": [
    {
     "name": "stdout",
     "output_type": "stream",
     "text": [
      "Введите число:0\n",
      "Некорректное число!\n",
      "Введите число:w20\n",
      "Некорректное число!\n",
      "Введите число:10\n",
      "Введено корректное число 10\n"
     ]
    }
   ],
   "source": [
    "total_count = 100000\n",
    "\n",
    "while True:\n",
    "    try:\n",
    "        raw = input('Введите число:')\n",
    "        number = int(raw)\n",
    "        total_count = total_count / number\n",
    "        break\n",
    "    except (ValueError, ZeroDivisionError): # Перечисляем в виде кортежа отлавливаемые исключения\n",
    "        print('Некорректное число!')\n",
    "\n",
    "print('Введено корректное число', number)"
   ]
  },
  {
   "cell_type": "markdown",
   "metadata": {},
   "source": [
    "## Обработка нескольких исключений, наследование"
   ]
  },
  {
   "cell_type": "code",
   "execution_count": 9,
   "metadata": {},
   "outputs": [
    {
     "data": {
      "text/plain": [
       "True"
      ]
     },
     "execution_count": 9,
     "metadata": {},
     "output_type": "execute_result"
    }
   ],
   "source": [
    "issubclass(KeyError, LookupError)"
   ]
  },
  {
   "cell_type": "code",
   "execution_count": 10,
   "metadata": {},
   "outputs": [
    {
     "data": {
      "text/plain": [
       "True"
      ]
     },
     "execution_count": 10,
     "metadata": {},
     "output_type": "execute_result"
    }
   ],
   "source": [
    "issubclass(IndexError, LookupError)"
   ]
  },
  {
   "cell_type": "code",
   "execution_count": 11,
   "metadata": {},
   "outputs": [
    {
     "name": "stdout",
     "output_type": "stream",
     "text": [
      "Введите цвет:red\n",
      "Введите номер по порядку:0\n",
      "Вы выбрали: fox\n"
     ]
    }
   ],
   "source": [
    "database = {\n",
    "    'red': ['fox', 'flower'],\n",
    "    'green': ['peace', 'M', 'python']\n",
    "}\n",
    "\n",
    "try:\n",
    "    color = input('Введите цвет:')\n",
    "    number = input('Введите номер по порядку:')\n",
    "    label = database[color][int(number)]\n",
    "    print('Вы выбрали:', label)\n",
    "except LookupError: # Исключения KeyError и IndexError обрабатываем базовым (родительским) классом LookupError\n",
    "    print('Объект не найден')"
   ]
  },
  {
   "cell_type": "markdown",
   "metadata": {},
   "source": [
    "## Блок `finally`"
   ]
  },
  {
   "cell_type": "code",
   "execution_count": 1,
   "metadata": {},
   "outputs": [
    {
     "name": "stdout",
     "output_type": "stream",
     "text": [
      "Вызван блок try -> else\n",
      "Вызван блок try -> finally\n"
     ]
    }
   ],
   "source": [
    "f = open('log.txt', 'w+')\n",
    "try:\n",
    "    for line in f:\n",
    "        print(line.rstrip('\\n'))\n",
    "        1 / 0 # Исключение ZeroDivisionError\n",
    "    # В программе возникает исключение ZeroDivisionError, файловый дескриптор\n",
    "    # не будет закрыт, так как это исключение не отлавливается, но к счастью есть блок finally.\n",
    "    f.close\n",
    "except OSError:\n",
    "    print('Ошибка')\n",
    "else:         # Блок else будет выполнен в том случае, если никакого исключения не произошло\n",
    "    print('Вызван блок try -> else')\n",
    "finally:      # Блок finally будет выполнен в любом случае\n",
    "    print('Вызван блок try -> finally')\n",
    "    f.close"
   ]
  },
  {
   "cell_type": "markdown",
   "metadata": {},
   "source": [
    "## Итоги\n",
    "\n",
    "Мы узнали про:\n",
    "* Генерацию исключений\n",
    "* Типы исключений\n",
    "* Обработку исключений"
   ]
  }
 ],
 "metadata": {
  "kernelspec": {
   "display_name": "Python 3 (ipykernel)",
   "language": "python",
   "name": "python3"
  },
  "language_info": {
   "codemirror_mode": {
    "name": "ipython",
    "version": 3
   },
   "file_extension": ".py",
   "mimetype": "text/x-python",
   "name": "python",
   "nbconvert_exporter": "python",
   "pygments_lexer": "ipython3",
   "version": "3.11.4"
  },
  "toc": {
   "nav_menu": {
    "height": "153px",
    "width": "387px"
   },
   "number_sections": true,
   "sideBar": false,
   "skip_h1_title": true,
   "title_cell": "Table of Contents",
   "title_sidebar": "Contents",
   "toc_cell": false,
   "toc_position": {},
   "toc_section_display": true,
   "toc_window_display": false
  }
 },
 "nbformat": 4,
 "nbformat_minor": 2
}
